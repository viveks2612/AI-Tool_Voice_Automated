{
 "cells": [
  {
   "cell_type": "code",
   "execution_count": null,
   "metadata": {},
   "outputs": [],
   "source": [
    "import socket\n",
    "import os\n",
    "from voice_recognize import voice_recognize\n",
    "print(\"\\t\\t\\tAI PROJECT\")\n",
    "print(\"\\t\\t\\t..........\")\n",
    "\n",
    "print(\"\"\" 1. press 1 to show date\n",
    " 2. press 2 to show camera\n",
    " 3. press 3 to show calender\n",
    " 4. press 4 for click photo\n",
    " 5. press 5 for live stream\n",
    " 6. press 6 to exit\"\"\")\n",
    "print(\"enter choise\")\n",
    "\n",
    "s=socket.socket()\n",
    "serverip=\"192.168.43.202\"\n",
    "serverport=1114\n",
    "s=socket.socket()\n",
    "serverip=\"192.168.43.202\"\n",
    "serverport=1114\n",
    "s.connect( (serverip,serverport) )\n",
    "\n",
    "\n",
    "\n",
    "while True:\n",
    "    ch = voice_recognize()\n",
    "    print(ch)\n",
    "    if \"date\" in ch or \"get\" in ch:\n",
    "        cmd=\"1\"\n",
    "        cmd=cmd.encode()\n",
    "        s.send(cmd)\n",
    "        output=s.recv(200).decode()\n",
    "        print(output)\n",
    "    elif int(ch)==2:\n",
    "        cmd =\"2\"\n",
    "        cmd=cmd.encode()\n",
    "        s.send(cmd)\n",
    "        output=s.recv(200).decode()\n",
    "        print(output)\n",
    "    elif int(ch)==3:\n",
    "        cmd =\"3\"\n",
    "        cmd=cmd.encode()\n",
    "        s.send(cmd)\n",
    "        output=s.recv(200).decode()\n",
    "        print(output)\n",
    "    elif int(ch)==4:\n",
    "        cmd =\"4\"\n",
    "        cmd=cmd.encode()\n",
    "        s.send(cmd)\n",
    "    elif int(ch)==5:\n",
    "        cmd =\"5\"\n",
    "        cmd=cmd.encode()\n",
    "        s.send(cmd)\n",
    "        "
   ]
  },
  {
   "cell_type": "code",
   "execution_count": null,
   "metadata": {},
   "outputs": [],
   "source": []
  },
  {
   "cell_type": "code",
   "execution_count": null,
   "metadata": {},
   "outputs": [],
   "source": []
  }
 ],
 "metadata": {
  "kernelspec": {
   "display_name": "Python 3",
   "language": "python",
   "name": "python3"
  },
  "language_info": {
   "codemirror_mode": {
    "name": "ipython",
    "version": 3
   },
   "file_extension": ".py",
   "mimetype": "text/x-python",
   "name": "python",
   "nbconvert_exporter": "python",
   "pygments_lexer": "ipython3",
   "version": "3.7.0"
  }
 },
 "nbformat": 4,
 "nbformat_minor": 2
}
