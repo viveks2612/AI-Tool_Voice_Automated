{
 "cells": [
  {
   "cell_type": "code",
   "execution_count": 1,
   "metadata": {},
   "outputs": [
    {
     "name": "stdout",
     "output_type": "stream",
     "text": [
      "\t\t\tAI PROJECT\n",
      "\t\t\t..........\n",
      "Do you want to run the program on local system or remote system\n",
      "1.Type local for local system\n",
      "2.Type remote for remote system\n",
      "remote\n",
      "remote\n",
      " 1. press 1 to show date\n",
      " 2. press 2 to show camera\n",
      " 3. press 3 to show calender\n",
      " 4. press 4 to exit\n",
      "enter Internet protocol\n",
      "f\n",
      "enter choise\n",
      "5\n",
      "5\n",
      "wrong option\n"
     ]
    }
   ],
   "source": [
    "import os\n",
    "os.system(\"echo welcome to AI project | festival --tts\")\n",
    "print(\"\\t\\t\\tAI PROJECT\")\n",
    "print(\"\\t\\t\\t..........\")\n",
    "\n",
    "\n",
    "print(\"Do you want to run the program on local system or remote system\")\n",
    "os.system(\"tput setaf 4\")\n",
    "print(\"1.Type local for local system\")\n",
    "print(\"2.Type remote for remote system\")\n",
    "os.system(\"tput setaf 0\")\n",
    "\n",
    "location = input()\n",
    "print(location)\n",
    "\n",
    "if location==\"local\":\n",
    "\tos.system(\"echo local | festival --tts\")\n",
    "\tprint(\"\"\" 1. press 1 to show date\n",
    " 2. press 2 to show camera\n",
    " 3. press 3 to show calender\n",
    " 4. press 4 to exit\"\"\")\n",
    "\tprint(\"enter choise\")\n",
    "\tch = input()\n",
    "\tprint(ch)\n",
    "\tif int(ch)==1:\n",
    "\t\tos.system(\"date\")\n",
    "\telif int(ch)==2:\n",
    "\t\tos.system(\"python36 capture.py\")\n",
    "\telif int(ch)==3:\n",
    "\t\tos.system(\"cal\")\n",
    "\telif int(ch)==4:\n",
    "\t\texit()\n",
    "\telse:\n",
    "\t\tprint(\"wrong option\")\n",
    "\n",
    "elif location == \"remote\":\n",
    "\tos.system(\"echo remote | festival --tts\")\n",
    "\tprint(\"\"\" 1. press 1 to show date\n",
    " 2. press 2 to show camera\n",
    " 3. press 3 to show calender\n",
    " 4. press 4 to exit\"\"\")\t\n",
    "\tprint(\"enter Internet protocol\")\n",
    "\tremote_ip = input()\n",
    "\tprint(\"enter choise\")\n",
    "\tch = input()\n",
    "\tprint(ch)\n",
    "\tif int(ch)==1:\n",
    "\t\tos.system(\"ssh {} date\".format(remote_ip))\n",
    "\telif int(ch)==2:\n",
    "\t\tos.system(\"scp capture.py {}:/root/Desktop\".format(remote_ip))\n",
    "\t\tos.system(\"ssh {} python36 /root/Desktop/capture.py\".format(remote_ip))\n",
    "\t\tos.system(\"scp {}:/root/Desktop/vivek.png /root/Desktop/myproject\".format(remote_ip))\t\n",
    "\telif int(ch)==3:\n",
    "\t\tos.system(\"ssh {} cal\".format(remote_ip))\n",
    "\telif int(ch)==4:\n",
    "\t\texit()\n",
    "\telse:\n",
    "\t\tprint(\"wrong option\")\n",
    "else:\n",
    "\tprint(\"you did not choose local or remote\")\n"
   ]
  },
  {
   "cell_type": "code",
   "execution_count": null,
   "metadata": {},
   "outputs": [],
   "source": []
  }
 ],
 "metadata": {
  "kernelspec": {
   "display_name": "Python 3",
   "language": "python",
   "name": "python3"
  },
  "language_info": {
   "codemirror_mode": {
    "name": "ipython",
    "version": 3
   },
   "file_extension": ".py",
   "mimetype": "text/x-python",
   "name": "python",
   "nbconvert_exporter": "python",
   "pygments_lexer": "ipython3",
   "version": "3.6.6"
  }
 },
 "nbformat": 4,
 "nbformat_minor": 2
}
