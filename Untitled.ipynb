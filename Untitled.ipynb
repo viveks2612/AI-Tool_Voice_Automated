{
 "cells": [
  {
   "cell_type": "code",
   "execution_count": null,
   "metadata": {},
   "outputs": [],
   "source": [
    "import socket\n",
    "import os\n",
    "import subprocess\n",
    "\n",
    "s = socket.socket()\n",
    "ip=\"192.168.43.202\"\n",
    "port=1114\n",
    "s.bind( (ip,port) )\n",
    "s.listen()\n",
    "\n",
    "client_session , client_address = s.accept()\n",
    "\n",
    "while True:\n",
    "\tdata = client_session.recv(20)\n",
    "\tcmd = data.decode()\n",
    "\toutput = subprocess.getoutput(cmd)\n",
    "\tprint(output)\n",
    "\toutput = output.encode()\n",
    "\tclient_session.send(output)"
   ]
  },
  {
   "cell_type": "code",
   "execution_count": null,
   "metadata": {},
   "outputs": [],
   "source": []
  }
 ],
 "metadata": {
  "kernelspec": {
   "display_name": "Python 3",
   "language": "python",
   "name": "python3"
  },
  "language_info": {
   "codemirror_mode": {
    "name": "ipython",
    "version": 3
   },
   "file_extension": ".py",
   "mimetype": "text/x-python",
   "name": "python",
   "nbconvert_exporter": "python",
   "pygments_lexer": "ipython3",
   "version": "3.6.6"
  }
 },
 "nbformat": 4,
 "nbformat_minor": 2
}
